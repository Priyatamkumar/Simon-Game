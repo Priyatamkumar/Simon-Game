{
  "nbformat": 4,
  "nbformat_minor": 0,
  "metadata": {
    "colab": {
      "provenance": [],
      "authorship_tag": "ABX9TyPohBkt5LSMYyJ7qAMxGgXm",
      "include_colab_link": true
    },
    "kernelspec": {
      "name": "python3",
      "display_name": "Python 3"
    },
    "language_info": {
      "name": "python"
    }
  },
  "cells": [
    {
      "cell_type": "markdown",
      "metadata": {
        "id": "view-in-github",
        "colab_type": "text"
      },
      "source": [
        "<a href=\"https://colab.research.google.com/github/Priyatamkumar/Simon-Game/blob/main/Umbiquotus_computing.ipynb\" target=\"_parent\"><img src=\"https://colab.research.google.com/assets/colab-badge.svg\" alt=\"Open In Colab\"/></a>"
      ]
    },
    {
      "cell_type": "code",
      "execution_count": 18,
      "metadata": {
        "colab": {
          "base_uri": "https://localhost:8080/"
        },
        "id": "TnK15Ivq8rsa",
        "outputId": "96e57e6d-8c31-4ff8-c5e5-ae810dc6a42d"
      },
      "outputs": [
        {
          "output_type": "stream",
          "name": "stdout",
          "text": [
            "0      0\n",
            "1      5\n",
            "2     35\n",
            "3    227\n",
            "4    374\n",
            "5     11\n",
            "6      0\n",
            "7      0\n",
            "8      0\n",
            "dtype: int64\n",
            "     0      1     2     3      4     5      6   7  8\n",
            "0    6  148.0  72.0  35.0    NaN  33.6  0.627  50  1\n",
            "1    1   85.0  66.0  29.0    NaN  26.6  0.351  31  0\n",
            "2    8  183.0  64.0   NaN    NaN  23.3  0.672  32  1\n",
            "3    1   89.0  66.0  23.0   94.0  28.1  0.167  21  0\n",
            "4    0  137.0  40.0  35.0  168.0  43.1  2.288  33  1\n",
            "5    5  116.0  74.0   NaN    NaN  25.6  0.201  30  0\n",
            "6    3   78.0  50.0  32.0   88.0  31.0  0.248  26  1\n",
            "7   10  115.0   NaN   NaN    NaN  35.3  0.134  29  0\n",
            "8    2  197.0  70.0  45.0  543.0  30.5  0.158  53  1\n",
            "9    8  125.0  96.0   NaN    NaN   NaN  0.232  54  1\n",
            "10   4  110.0  92.0   NaN    NaN  37.6  0.191  30  0\n",
            "11  10  168.0  74.0   NaN    NaN  38.0  0.537  34  1\n",
            "12  10  139.0  80.0   NaN    NaN  27.1  1.441  57  0\n",
            "13   1  189.0  60.0  23.0  846.0  30.1  0.398  59  1\n",
            "14   5  166.0  72.0  19.0  175.0  25.8  0.587  51  1\n",
            "15   7  100.0   NaN   NaN    NaN  30.0  0.484  32  1\n",
            "16   0  118.0  84.0  47.0  230.0  45.8  0.551  31  1\n",
            "17   7  107.0  74.0   NaN    NaN  29.6  0.254  31  1\n",
            "18   1  103.0  30.0  38.0   83.0  43.3  0.183  33  0\n",
            "19   1  115.0  70.0  30.0   96.0  34.6  0.529  32  1\n",
            "(768, 9)\n",
            "(392, 9)\n"
          ]
        }
      ],
      "source": [
        "from pandas import read_csv\n",
        "import numpy\n",
        "dataset = read_csv('pima-indians-diabetes.csv',header=None)\n",
        "dataset[[1,2,3,4,5]]=dataset[[1,2,3,4,5]].replace(0,numpy.NaN)\n",
        "print(dataset.isnull().sum())\n",
        "print(dataset.head(20))\n",
        "print(dataset.shape)\n",
        "dataset.dropna(inplace=True)\n",
        "print(dataset.shape)"
      ]
    },
    {
      "cell_type": "code",
      "source": [
        "import pandas\n",
        "import numpy\n",
        "import scipy\n",
        "from sklearn.preprocessing import MinMaxScaler\n",
        "url = \"https://raw.githubusercontent.com/jbrownlee/Datasets/master/pima-indians-diabetes.data.csv\"\n",
        "names = ['preg', 'plas', 'pres', 'skin', 'test', 'mass', 'pedi', 'age', 'class']\n",
        "dataframe=pandas.read_csv(url,names=names)\n",
        "array=dataframe.values\n",
        "x=array[:,0:8]\n",
        "y=array[:,8]\n",
        "scaler=StandardScaler().fit(x)\n",
        "rescaledX=scaler.transform(x)\n",
        "numpy.set_printoptions(precision=3)\n",
        "print(rescaledX[0:5,:])"
      ],
      "metadata": {
        "colab": {
          "base_uri": "https://localhost:8080/",
          "height": 236
        },
        "id": "_zBngGhI8tfs",
        "outputId": "134e03f3-aaf9-4b31-8df5-c35296c1ae82"
      },
      "execution_count": 22,
      "outputs": [
        {
          "output_type": "error",
          "ename": "NameError",
          "evalue": "ignored",
          "traceback": [
            "\u001b[0;31m---------------------------------------------------------------------------\u001b[0m",
            "\u001b[0;31mNameError\u001b[0m                                 Traceback (most recent call last)",
            "\u001b[0;32m<ipython-input-22-f6b0e647c3cd>\u001b[0m in \u001b[0;36m<module>\u001b[0;34m\u001b[0m\n\u001b[1;32m      9\u001b[0m \u001b[0mx\u001b[0m\u001b[0;34m=\u001b[0m\u001b[0marray\u001b[0m\u001b[0;34m[\u001b[0m\u001b[0;34m:\u001b[0m\u001b[0;34m,\u001b[0m\u001b[0;36m0\u001b[0m\u001b[0;34m:\u001b[0m\u001b[0;36m8\u001b[0m\u001b[0;34m]\u001b[0m\u001b[0;34m\u001b[0m\u001b[0;34m\u001b[0m\u001b[0m\n\u001b[1;32m     10\u001b[0m \u001b[0my\u001b[0m\u001b[0;34m=\u001b[0m\u001b[0marray\u001b[0m\u001b[0;34m[\u001b[0m\u001b[0;34m:\u001b[0m\u001b[0;34m,\u001b[0m\u001b[0;36m8\u001b[0m\u001b[0;34m]\u001b[0m\u001b[0;34m\u001b[0m\u001b[0;34m\u001b[0m\u001b[0m\n\u001b[0;32m---> 11\u001b[0;31m \u001b[0mscaler\u001b[0m\u001b[0;34m=\u001b[0m\u001b[0mStandardScaler\u001b[0m\u001b[0;34m(\u001b[0m\u001b[0;34m)\u001b[0m\u001b[0;34m.\u001b[0m\u001b[0mfit\u001b[0m\u001b[0;34m(\u001b[0m\u001b[0mx\u001b[0m\u001b[0;34m)\u001b[0m\u001b[0;34m\u001b[0m\u001b[0;34m\u001b[0m\u001b[0m\n\u001b[0m\u001b[1;32m     12\u001b[0m \u001b[0mrescaledX\u001b[0m\u001b[0;34m=\u001b[0m\u001b[0mscaler\u001b[0m\u001b[0;34m.\u001b[0m\u001b[0mtransform\u001b[0m\u001b[0;34m(\u001b[0m\u001b[0mx\u001b[0m\u001b[0;34m)\u001b[0m\u001b[0;34m\u001b[0m\u001b[0;34m\u001b[0m\u001b[0m\n\u001b[1;32m     13\u001b[0m \u001b[0mnumpy\u001b[0m\u001b[0;34m.\u001b[0m\u001b[0mset_printoptions\u001b[0m\u001b[0;34m(\u001b[0m\u001b[0mprecision\u001b[0m\u001b[0;34m=\u001b[0m\u001b[0;36m3\u001b[0m\u001b[0;34m)\u001b[0m\u001b[0;34m\u001b[0m\u001b[0;34m\u001b[0m\u001b[0m\n",
            "\u001b[0;31mNameError\u001b[0m: name 'StandardScaler' is not defined"
          ]
        }
      ]
    }
  ]
}